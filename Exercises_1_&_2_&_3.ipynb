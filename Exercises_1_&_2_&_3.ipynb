{
 "cells": [
  {
   "cell_type": "markdown",
   "metadata": {},
   "source": [
    "# Excercises\n",
    "\n",
    "Excercise 1: rewrite your pay computation  to  give 1.5 times the hourly rate for hours worked above 40 hours"
   ]
  },
  {
   "cell_type": "code",
   "execution_count": null,
   "metadata": {},
   "outputs": [],
   "source": [
    "sh = input(\"Enter Hours: \")\n",
    "sr = input(\"Enter Rate: \")\n",
    "fh = float(sh)\n",
    "fr = float(sr)\n",
    "# print(fh, fr)\n",
    "if fh > 40 :\n",
    "    print (\"Overtime\")\n",
    "    reg = fr * fh\n",
    "    otp = (fh - 40.0) *  (fr * 0.5)\n",
    "    print(reg, otp)\n",
    "    xp = reg + otp\n",
    "else: \n",
    "    print (\"Regular\")\n",
    "    xp = fh * fr\n",
    "print(\"Pay:\", xp)"
   ]
  },
  {
   "cell_type": "markdown",
   "metadata": {},
   "source": [
    "Excercise 2: rewrite your pay program using try and except so that your program\n",
    "handles non-numeric input gracefully by printing a message and exiting the program.\n",
    "The following shows two executions of the program."
   ]
  },
  {
   "cell_type": "code",
   "execution_count": 4,
   "metadata": {},
   "outputs": [
    {
     "name": "stdout",
     "output_type": "stream",
     "text": [
      "50.0 10.0\n",
      "Overtime\n",
      "500.0 50.0\n",
      "Pay: 550.0\n"
     ]
    }
   ],
   "source": [
    "sh = input(\"Enter Hours: \")\n",
    "sr = input(\"Enter Rate: \")\n",
    "try:\n",
    "    fh = float(sh)\n",
    "    fr = float(sr)\n",
    "except:\n",
    "    print(\"Error, please enter numeric input\")\n",
    "    quit()\n",
    "print(fh, fr)\n",
    "if fh > 40 :\n",
    "    print (\"Overtime\")\n",
    "    reg = fr * fh\n",
    "    otp = (fh - 40.0) *  (fr * 0.5)\n",
    "    print(reg, otp)\n",
    "    xp = reg + otp\n",
    "else: \n",
    "    print (\"Regular\")\n",
    "    xp = fh * fr\n",
    "print(\"Pay:\", xp)"
   ]
  },
  {
   "cell_type": "code",
   "execution_count": 3,
   "metadata": {},
   "outputs": [
    {
     "name": "stdout",
     "output_type": "stream",
     "text": [
      "Invalid Input\n",
      "Invalid Input\n",
      "ALL Done\n",
      "18.0 4 4.5\n"
     ]
    }
   ],
   "source": [
    "num = 0\n",
    "tot = 0.0\n",
    "\n",
    "while True:\n",
    "    sval = input('Enter a number: ')\n",
    "    if sval == 'Done':\n",
    "        break\n",
    "    try:\n",
    "        fval = float(sval)\n",
    "    except:\n",
    "        print('Invalid Input')\n",
    "        continue\n",
    "    #print(fval)\n",
    "    num = num + 1\n",
    "    tot = tot + fval\n",
    "\n",
    "print('ALL Done')\n",
    "print(tot, num, tot/num)\n"
   ]
  },
  {
   "cell_type": "markdown",
   "metadata": {},
   "source": [
    "# Slicing Strings"
   ]
  },
  {
   "cell_type": "code",
   "execution_count": 10,
   "metadata": {},
   "outputs": [
    {
     "name": "stdout",
     "output_type": "stream",
     "text": [
      "18\n",
      " 0.8475\n",
      "0.8475\n"
     ]
    }
   ],
   "source": [
    "str = 'X_DSPAM-Cpnfidence: 0.8475'\n",
    "\n",
    "ipos = str.find(':')\n",
    "print(ipos)\n",
    "\n",
    "piece = str[ipos+1:]\n",
    "\n",
    "print(piece)\n",
    "\n",
    "value = float(piece)\n",
    "print(value)"
   ]
  }
 ],
 "metadata": {
  "kernelspec": {
   "display_name": "Python 3.7.4 ('base')",
   "language": "python",
   "name": "python3"
  },
  "language_info": {
   "codemirror_mode": {
    "name": "ipython",
    "version": 3
   },
   "file_extension": ".py",
   "mimetype": "text/x-python",
   "name": "python",
   "nbconvert_exporter": "python",
   "pygments_lexer": "ipython3",
   "version": "3.7.4"
  },
  "orig_nbformat": 4,
  "vscode": {
   "interpreter": {
    "hash": "5386b5aee6d1f2b0fd43a25bf4032bcfcd3ad3baf48d1ba4b6e7643869b5c370"
   }
  }
 },
 "nbformat": 4,
 "nbformat_minor": 2
}
